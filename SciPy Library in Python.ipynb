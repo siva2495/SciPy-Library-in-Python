{
 "cells": [
  {
   "cell_type": "markdown",
   "id": "bfef52ca",
   "metadata": {},
   "source": [
    "---\n",
    "\n",
    "<center><h1>SciPy</h1></center>\n",
    "\n",
    "***SciPy is a open source scientific library for python. The SciPy library depends on NumPy, Which provides convinient and fast N-dimentional array manupulation.***\n",
    "\n",
    "---\n",
    "---"
   ]
  },
  {
   "cell_type": "code",
   "execution_count": 1,
   "id": "b4011636",
   "metadata": {},
   "outputs": [],
   "source": [
    "# import the scipy library\n",
    "import scipy"
   ]
  },
  {
   "cell_type": "markdown",
   "id": "24026928",
   "metadata": {},
   "source": [
    "***If you got an error while running the abovre cell, import it by using the following commnand.***\n",
    "\n",
    "***!pip3 install scipy***\n",
    "\n",
    "---"
   ]
  },
  {
   "cell_type": "code",
   "execution_count": 2,
   "id": "28ee5ff6",
   "metadata": {},
   "outputs": [
    {
     "data": {
      "text/plain": [
       "'1.6.2'"
      ]
     },
     "execution_count": 2,
     "metadata": {},
     "output_type": "execute_result"
    }
   ],
   "source": [
    "# check the version of scipy\n",
    "scipy.__version__"
   ]
  },
  {
   "cell_type": "markdown",
   "id": "cd8483cd",
   "metadata": {},
   "source": [
    "**Compute N-th derivative of a Function**\n",
    "\n",
    "---\n",
    "---"
   ]
  },
  {
   "cell_type": "code",
   "execution_count": 3,
   "id": "1e074f06",
   "metadata": {},
   "outputs": [],
   "source": [
    "#import the derivative from scipy\n",
    "from scipy.misc import derivative"
   ]
  },
  {
   "cell_type": "code",
   "execution_count": 4,
   "id": "c3d1337f",
   "metadata": {},
   "outputs": [
    {
     "data": {
      "text/plain": [
       "5.0"
      ]
     },
     "execution_count": 4,
     "metadata": {},
     "output_type": "execute_result"
    }
   ],
   "source": [
    "#define the function\n",
    "def my_function(x):\n",
    "    return x**2+x+1\n",
    "#Calculate the first derivative of the function at x=2\n",
    "derivative(func=my_function, x0=2)"
   ]
  },
  {
   "cell_type": "markdown",
   "id": "9d4fa1b1",
   "metadata": {},
   "source": [
    "-Function: `f(x) = x**2 + x + 1`\n",
    "\n",
    "-Derivative: `f'(x) = 2x + 1`\n",
    "\n",
    "-Solution: `f'(2) = 2*2 + 1 = 5`\n",
    "\n",
    "---\n",
    "\n",
    "***Now, calculate second derivative.***\n",
    "\n",
    "---"
   ]
  },
  {
   "cell_type": "code",
   "execution_count": 5,
   "id": "6f7e51e9",
   "metadata": {},
   "outputs": [
    {
     "data": {
      "text/plain": [
       "2.0"
      ]
     },
     "execution_count": 5,
     "metadata": {},
     "output_type": "execute_result"
    }
   ],
   "source": [
    "derivative(func=my_function, x0=2, n=2)"
   ]
  },
  {
   "cell_type": "markdown",
   "id": "d8060296",
   "metadata": {},
   "source": [
    "\n",
    "---\n",
    "\n",
    "***`PERMUTATION AND COMBINATION`***\n"
   ]
  },
  {
   "cell_type": "code",
   "execution_count": 6,
   "id": "5d07b261",
   "metadata": {},
   "outputs": [
    {
     "name": "stdout",
     "output_type": "stream",
     "text": [
      "6.0\n"
     ]
    }
   ],
   "source": [
    "# Combinations\n",
    "from scipy.special import comb\n",
    "\n",
    "# total number of combinations from 4 different values taken 2 at a time\n",
    "# Value of 4C2\n",
    "com = comb(4, 2)\n",
    "\n",
    "print(com)"
   ]
  },
  {
   "cell_type": "code",
   "execution_count": 7,
   "id": "d3c8aecc",
   "metadata": {},
   "outputs": [
    {
     "name": "stdout",
     "output_type": "stream",
     "text": [
      "12.0\n"
     ]
    }
   ],
   "source": [
    "#Permutation value 4P2\n",
    "from scipy.special import perm\n",
    "per = perm(4,2)\n",
    "\n",
    "print(per)"
   ]
  },
  {
   "cell_type": "markdown",
   "id": "30cfb6ab",
   "metadata": {},
   "source": [
    "\n",
    "---\n",
    "\n",
    "**`LINEAR ALGEBRA`**\n"
   ]
  },
  {
   "cell_type": "code",
   "execution_count": 9,
   "id": "5692c246",
   "metadata": {},
   "outputs": [],
   "source": [
    "# import linear algebra module and numpy\n",
    "from scipy import linalg\n",
    "import numpy as np"
   ]
  },
  {
   "cell_type": "code",
   "execution_count": 10,
   "id": "0359ceca",
   "metadata": {},
   "outputs": [],
   "source": [
    "# square matrix\n",
    "matrix = np.array([[1, 5, 2],\n",
    "                  [3, 2, 1],\n",
    "                  [1, 2, 1]])"
   ]
  },
  {
   "cell_type": "code",
   "execution_count": 11,
   "id": "9eae527b",
   "metadata": {},
   "outputs": [
    {
     "data": {
      "text/plain": [
       "array([[1, 5, 2],\n",
       "       [3, 2, 1],\n",
       "       [1, 2, 1]])"
      ]
     },
     "execution_count": 11,
     "metadata": {},
     "output_type": "execute_result"
    }
   ],
   "source": [
    "matrix"
   ]
  },
  {
   "cell_type": "code",
   "execution_count": 12,
   "id": "c1d78136",
   "metadata": {},
   "outputs": [
    {
     "data": {
      "text/plain": [
       "-1.9999999999999998"
      ]
     },
     "execution_count": 12,
     "metadata": {},
     "output_type": "execute_result"
    }
   ],
   "source": [
    "#pass value to det () function\n",
    "linalg.det(matrix)"
   ]
  },
  {
   "cell_type": "code",
   "execution_count": 13,
   "id": "83fec076",
   "metadata": {},
   "outputs": [
    {
     "data": {
      "text/plain": [
       "array([[ 0. ,  0.5, -0.5],\n",
       "       [ 1. ,  0.5, -2.5],\n",
       "       [-2. , -1.5,  6.5]])"
      ]
     },
     "execution_count": 13,
     "metadata": {},
     "output_type": "execute_result"
    }
   ],
   "source": [
    "# inverse of matrix\n",
    "linalg.inv(matrix)"
   ]
  },
  {
   "cell_type": "markdown",
   "id": "3beaf8c6",
   "metadata": {},
   "source": [
    "***Learn more about SciPy here: https://docs.scipy.org/doc/***\n",
    "\n"
   ]
  }
 ],
 "metadata": {
  "kernelspec": {
   "display_name": "Python 3",
   "language": "python",
   "name": "python3"
  },
  "language_info": {
   "codemirror_mode": {
    "name": "ipython",
    "version": 3
   },
   "file_extension": ".py",
   "mimetype": "text/x-python",
   "name": "python",
   "nbconvert_exporter": "python",
   "pygments_lexer": "ipython3",
   "version": "3.8.8"
  }
 },
 "nbformat": 4,
 "nbformat_minor": 5
}
